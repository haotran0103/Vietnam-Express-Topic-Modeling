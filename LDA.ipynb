{
 "cells": [
  {
   "cell_type": "code",
   "execution_count": 32,
   "metadata": {},
   "outputs": [],
   "source": [
    "import pandas as pd\n",
    "import pyvi\n",
    "from underthesea import word_tokenize\n",
    "import re\n",
    "import string"
   ]
  },
  {
   "cell_type": "code",
   "execution_count": 33,
   "metadata": {},
   "outputs": [
    {
     "data": {
      "text/html": [
       "<div>\n",
       "<style scoped>\n",
       "    .dataframe tbody tr th:only-of-type {\n",
       "        vertical-align: middle;\n",
       "    }\n",
       "\n",
       "    .dataframe tbody tr th {\n",
       "        vertical-align: top;\n",
       "    }\n",
       "\n",
       "    .dataframe thead th {\n",
       "        text-align: right;\n",
       "    }\n",
       "</style>\n",
       "<table border=\"1\" class=\"dataframe\">\n",
       "  <thead>\n",
       "    <tr style=\"text-align: right;\">\n",
       "      <th></th>\n",
       "      <th>Unnamed: 0</th>\n",
       "      <th>id</th>\n",
       "      <th>title</th>\n",
       "      <th>author</th>\n",
       "      <th>updatetime</th>\n",
       "      <th>wordcount</th>\n",
       "      <th>publication</th>\n",
       "      <th>tags</th>\n",
       "      <th>content</th>\n",
       "      <th>category</th>\n",
       "    </tr>\n",
       "  </thead>\n",
       "  <tbody>\n",
       "    <tr>\n",
       "      <th>0</th>\n",
       "      <td>0</td>\n",
       "      <td>4381821</td>\n",
       "      <td>Hai thứ cần kiểm tra ngay khi nhận phòng khách...</td>\n",
       "      <td>1278077694</td>\n",
       "      <td>1636102370</td>\n",
       "      <td>374</td>\n",
       "      <td>1636100385</td>\n",
       "      <td>khách sạn, dọn phòng, giường, làm sạch</td>\n",
       "      <td>Nếu chăn, ga, gối và tấm trải giường nhàu nhĩ...</td>\n",
       "      <td>du-lich</td>\n",
       "    </tr>\n",
       "    <tr>\n",
       "      <th>1</th>\n",
       "      <td>1</td>\n",
       "      <td>4381773</td>\n",
       "      <td>Thảo Cầm Viên nhộn nhịp ngày đầu mở cửa trở lại</td>\n",
       "      <td>1700000208</td>\n",
       "      <td>1636102776</td>\n",
       "      <td>11</td>\n",
       "      <td>1636100861</td>\n",
       "      <td>thảo cầm viên, sở thú, thảo cầm viên đóng cửa,...</td>\n",
       "      <td>Sáng 5/11, người dân xếp hàng ở quầy chờ mua ...</td>\n",
       "      <td>du-lich</td>\n",
       "    </tr>\n",
       "    <tr>\n",
       "      <th>2</th>\n",
       "      <td>2</td>\n",
       "      <td>4381741</td>\n",
       "      <td>Cúc Phương là vườn quốc gia hàng đầu châu Á 2021</td>\n",
       "      <td>1278077694</td>\n",
       "      <td>1636097710</td>\n",
       "      <td>356</td>\n",
       "      <td>1636086711</td>\n",
       "      <td>du khách, du lịch, cúc phương, vườn quốc gia</td>\n",
       "      <td>Để giành danh hiệu trên, Cúc Phương đã vượt q...</td>\n",
       "      <td>du-lich</td>\n",
       "    </tr>\n",
       "    <tr>\n",
       "      <th>3</th>\n",
       "      <td>3</td>\n",
       "      <td>4376293</td>\n",
       "      <td>Cuộc sống không thể thiếu chocolate ở Bỉ</td>\n",
       "      <td>1700000475</td>\n",
       "      <td>1636098959</td>\n",
       "      <td>692</td>\n",
       "      <td>1636083674</td>\n",
       "      <td>chocolate, chocolate bỉ, du lịch bỉ, du lịch b...</td>\n",
       "      <td>\"Người Bỉ khó có thể tồn tại mà không có choc...</td>\n",
       "      <td>du-lich</td>\n",
       "    </tr>\n",
       "    <tr>\n",
       "      <th>4</th>\n",
       "      <td>4</td>\n",
       "      <td>4381205</td>\n",
       "      <td>Bánh canh hẹ Phú Yên ở Sài Gòn</td>\n",
       "      <td>1700000492</td>\n",
       "      <td>1636083758</td>\n",
       "      <td>579</td>\n",
       "      <td>1636074180</td>\n",
       "      <td>phú yên, tuy hòa, bánh canh hẹ, sài gòn, ẩm th...</td>\n",
       "      <td>Du khách đến Phú Yên có thể dễ dàng thưởng th...</td>\n",
       "      <td>du-lich</td>\n",
       "    </tr>\n",
       "  </tbody>\n",
       "</table>\n",
       "</div>"
      ],
      "text/plain": [
       "   Unnamed: 0       id                                              title  \\\n",
       "0           0  4381821  Hai thứ cần kiểm tra ngay khi nhận phòng khách...   \n",
       "1           1  4381773    Thảo Cầm Viên nhộn nhịp ngày đầu mở cửa trở lại   \n",
       "2           2  4381741   Cúc Phương là vườn quốc gia hàng đầu châu Á 2021   \n",
       "3           3  4376293           Cuộc sống không thể thiếu chocolate ở Bỉ   \n",
       "4           4  4381205                     Bánh canh hẹ Phú Yên ở Sài Gòn   \n",
       "\n",
       "       author  updatetime  wordcount  publication  \\\n",
       "0  1278077694  1636102370        374   1636100385   \n",
       "1  1700000208  1636102776         11   1636100861   \n",
       "2  1278077694  1636097710        356   1636086711   \n",
       "3  1700000475  1636098959        692   1636083674   \n",
       "4  1700000492  1636083758        579   1636074180   \n",
       "\n",
       "                                                tags  \\\n",
       "0             khách sạn, dọn phòng, giường, làm sạch   \n",
       "1  thảo cầm viên, sở thú, thảo cầm viên đóng cửa,...   \n",
       "2       du khách, du lịch, cúc phương, vườn quốc gia   \n",
       "3  chocolate, chocolate bỉ, du lịch bỉ, du lịch b...   \n",
       "4  phú yên, tuy hòa, bánh canh hẹ, sài gòn, ẩm th...   \n",
       "\n",
       "                                             content category  \n",
       "0   Nếu chăn, ga, gối và tấm trải giường nhàu nhĩ...  du-lich  \n",
       "1   Sáng 5/11, người dân xếp hàng ở quầy chờ mua ...  du-lich  \n",
       "2   Để giành danh hiệu trên, Cúc Phương đã vượt q...  du-lich  \n",
       "3   \"Người Bỉ khó có thể tồn tại mà không có choc...  du-lich  \n",
       "4   Du khách đến Phú Yên có thể dễ dàng thưởng th...  du-lich  "
      ]
     },
     "execution_count": 33,
     "metadata": {},
     "output_type": "execute_result"
    }
   ],
   "source": [
    "df = pd.read_csv('vnexpress.csv')\n",
    "df.head()"
   ]
  },
  {
   "cell_type": "code",
   "execution_count": 34,
   "metadata": {},
   "outputs": [
    {
     "data": {
      "text/html": [
       "<div>\n",
       "<style scoped>\n",
       "    .dataframe tbody tr th:only-of-type {\n",
       "        vertical-align: middle;\n",
       "    }\n",
       "\n",
       "    .dataframe tbody tr th {\n",
       "        vertical-align: top;\n",
       "    }\n",
       "\n",
       "    .dataframe thead th {\n",
       "        text-align: right;\n",
       "    }\n",
       "</style>\n",
       "<table border=\"1\" class=\"dataframe\">\n",
       "  <thead>\n",
       "    <tr style=\"text-align: right;\">\n",
       "      <th></th>\n",
       "      <th>title</th>\n",
       "      <th>content</th>\n",
       "      <th>category</th>\n",
       "    </tr>\n",
       "  </thead>\n",
       "  <tbody>\n",
       "    <tr>\n",
       "      <th>0</th>\n",
       "      <td>Hai thứ cần kiểm tra ngay khi nhận phòng khách...</td>\n",
       "      <td>Nếu chăn, ga, gối và tấm trải giường nhàu nhĩ...</td>\n",
       "      <td>du-lich</td>\n",
       "    </tr>\n",
       "    <tr>\n",
       "      <th>1</th>\n",
       "      <td>Thảo Cầm Viên nhộn nhịp ngày đầu mở cửa trở lại</td>\n",
       "      <td>Sáng 5/11, người dân xếp hàng ở quầy chờ mua ...</td>\n",
       "      <td>du-lich</td>\n",
       "    </tr>\n",
       "    <tr>\n",
       "      <th>2</th>\n",
       "      <td>Cúc Phương là vườn quốc gia hàng đầu châu Á 2021</td>\n",
       "      <td>Để giành danh hiệu trên, Cúc Phương đã vượt q...</td>\n",
       "      <td>du-lich</td>\n",
       "    </tr>\n",
       "    <tr>\n",
       "      <th>3</th>\n",
       "      <td>Cuộc sống không thể thiếu chocolate ở Bỉ</td>\n",
       "      <td>\"Người Bỉ khó có thể tồn tại mà không có choc...</td>\n",
       "      <td>du-lich</td>\n",
       "    </tr>\n",
       "    <tr>\n",
       "      <th>4</th>\n",
       "      <td>Bánh canh hẹ Phú Yên ở Sài Gòn</td>\n",
       "      <td>Du khách đến Phú Yên có thể dễ dàng thưởng th...</td>\n",
       "      <td>du-lich</td>\n",
       "    </tr>\n",
       "  </tbody>\n",
       "</table>\n",
       "</div>"
      ],
      "text/plain": [
       "                                               title  \\\n",
       "0  Hai thứ cần kiểm tra ngay khi nhận phòng khách...   \n",
       "1    Thảo Cầm Viên nhộn nhịp ngày đầu mở cửa trở lại   \n",
       "2   Cúc Phương là vườn quốc gia hàng đầu châu Á 2021   \n",
       "3           Cuộc sống không thể thiếu chocolate ở Bỉ   \n",
       "4                     Bánh canh hẹ Phú Yên ở Sài Gòn   \n",
       "\n",
       "                                             content category  \n",
       "0   Nếu chăn, ga, gối và tấm trải giường nhàu nhĩ...  du-lich  \n",
       "1   Sáng 5/11, người dân xếp hàng ở quầy chờ mua ...  du-lich  \n",
       "2   Để giành danh hiệu trên, Cúc Phương đã vượt q...  du-lich  \n",
       "3   \"Người Bỉ khó có thể tồn tại mà không có choc...  du-lich  \n",
       "4   Du khách đến Phú Yên có thể dễ dàng thưởng th...  du-lich  "
      ]
     },
     "execution_count": 34,
     "metadata": {},
     "output_type": "execute_result"
    }
   ],
   "source": [
    "df = df.drop(columns=['Unnamed: 0', 'id', 'author', 'updatetime', 'wordcount', 'publication', 'tags'])\n",
    "df.head()"
   ]
  },
  {
   "cell_type": "code",
   "execution_count": 35,
   "metadata": {},
   "outputs": [],
   "source": [
    "df = df.dropna(subset=['title', 'content'])"
   ]
  },
  {
   "cell_type": "code",
   "execution_count": 36,
   "metadata": {},
   "outputs": [],
   "source": [
    "def text_normalizer(text):\n",
    "    text = text.lower()\n",
    "    text = re.sub(f\"[{string.punctuation}]\", \" \", text)\n",
    "    text = re.sub(\"\\s+\", \" \", text).strip()\n",
    "    return text"
   ]
  },
  {
   "cell_type": "code",
   "execution_count": 37,
   "metadata": {},
   "outputs": [],
   "source": [
    "def preprocess_text(text, stopwords):\n",
    "    text = text_normalizer(text)\n",
    "    tokens = word_tokenize(text, format='text')\n",
    "    tokens = [word for word in tokens.split() if word not in stopwords]\n",
    "    return ' '.join(tokens)"
   ]
  },
  {
   "cell_type": "code",
   "execution_count": 38,
   "metadata": {},
   "outputs": [],
   "source": [
    "with open('vietnamese-stopwords.txt', 'r', encoding='utf-8') as f:\n",
    "    stopwords = set(f.read().splitlines())\n",
    "\n",
    "df['processed_content'] = df['content'].apply(lambda x: preprocess_text(x, stopwords))"
   ]
  },
  {
   "cell_type": "code",
   "execution_count": 39,
   "metadata": {},
   "outputs": [],
   "source": [
    "from sklearn.decomposition import LatentDirichletAllocation, NMF\n",
    "from sklearn.feature_extraction.text import CountVectorizer, TfidfVectorizer"
   ]
  },
  {
   "cell_type": "code",
   "execution_count": 40,
   "metadata": {},
   "outputs": [],
   "source": [
    "def train_topic_modeling(df, num_topics=5, model_type='lda'):\n",
    "    category_models = {}\n",
    "    for category in df['category'].unique():\n",
    "        category_data = df[df['category'] == category]['processed_content']\n",
    "        if model_type == 'lda':\n",
    "            vectorizer = CountVectorizer()\n",
    "            model = LatentDirichletAllocation(n_components=num_topics, random_state=0)\n",
    "        elif model_type == 'nmf':\n",
    "            vectorizer = TfidfVectorizer()\n",
    "            model = NMF(n_components=num_topics, random_state=0)\n",
    "        else:\n",
    "            raise ValueError(\"Invalid model type. Choose either 'lda' or 'nmf'.\")\n",
    "        \n",
    "        data_vectorized = vectorizer.fit_transform(category_data)\n",
    "        model.fit(data_vectorized)\n",
    "        category_models[category] = (model, vectorizer)\n",
    "    return category_models"
   ]
  },
  {
   "cell_type": "code",
   "execution_count": 41,
   "metadata": {},
   "outputs": [],
   "source": [
    "def train_overall_model(df, num_topics=5, model_type='lda'):\n",
    "    if model_type == 'lda':\n",
    "        vectorizer = CountVectorizer()\n",
    "        model = LatentDirichletAllocation(n_components=num_topics, random_state=0)\n",
    "    elif model_type == 'nmf':\n",
    "        vectorizer = TfidfVectorizer()\n",
    "        model = NMF(n_components=num_topics, random_state=0)\n",
    "    else:\n",
    "        raise ValueError(\"Invalid model type. Choose either 'lda' or 'nmf'.\")\n",
    "    \n",
    "    data_vectorized = vectorizer.fit_transform(df['processed_content'])\n",
    "    model.fit(data_vectorized)\n",
    "    return model, vectorizer"
   ]
  },
  {
   "cell_type": "code",
   "execution_count": 42,
   "metadata": {},
   "outputs": [],
   "source": [
    "category_models = train_topic_modeling(df, num_topics=5, model_type='lda')\n",
    "overall_model, overall_vectorizer = train_overall_model(df, num_topics=5, model_type='lda')"
   ]
  },
  {
   "cell_type": "code",
   "execution_count": 43,
   "metadata": {},
   "outputs": [
    {
     "data": {
      "text/plain": [
       "['overall_vectorizer.pkl']"
      ]
     },
     "execution_count": 43,
     "metadata": {},
     "output_type": "execute_result"
    }
   ],
   "source": [
    "import joblib\n",
    "\n",
    "joblib.dump(category_models, 'category_models.pkl')\n",
    "joblib.dump(overall_model, 'overall_model.pkl')\n",
    "joblib.dump(overall_vectorizer, 'overall_vectorizer.pkl')"
   ]
  }
 ],
 "metadata": {
  "kernelspec": {
   "display_name": "venv",
   "language": "python",
   "name": "python3"
  },
  "language_info": {
   "codemirror_mode": {
    "name": "ipython",
    "version": 3
   },
   "file_extension": ".py",
   "mimetype": "text/x-python",
   "name": "python",
   "nbconvert_exporter": "python",
   "pygments_lexer": "ipython3",
   "version": "3.10.11"
  }
 },
 "nbformat": 4,
 "nbformat_minor": 2
}
